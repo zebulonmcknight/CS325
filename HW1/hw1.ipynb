{
 "cells": [
  {
   "cell_type": "code",
   "execution_count": null,
   "id": "963d525b",
   "metadata": {},
   "outputs": [
    {
     "name": "stdout",
     "output_type": "stream",
     "text": [
      "a) 0.07692307692307693\n",
      "b) 0.060502083260390055\n",
      "c) [22 18 44 ... 31  1 11]\n",
      "d) 0.06048\n"
     ]
    }
   ],
   "source": [
    "# *** PROBLEM 1 *** # \n",
    "# a\n",
    "success_probability = 4/52 \n",
    "print(\"a)\", success_probability)\n",
    "\n",
    "# b\n",
    "def geometric_distribution(p, k): \n",
    "    return ((1-p)**(k-1)) * (p)\n",
    "\n",
    "print(\"b)\", geometric_distribution(success_probability, 4)) \n",
    "\n",
    "# c \n",
    "import numpy as np\n",
    "\n",
    "results = np.random.geometric(success_probability, 100000)\n",
    "\n",
    "print(\"c)\", results)\n",
    "\n",
    "# d\n",
    "counter = 0\n",
    "for trial in results: \n",
    "    if (trial == 4):\n",
    "        counter += 1\n",
    "\n",
    "print(\"d)\", counter/100000) \n",
    "\n",
    "# e \n",
    "experimental_results = []\n",
    "\n",
    "# f\n",
    "\n",
    "# g "
   ]
  }
 ],
 "metadata": {
  "kernelspec": {
   "display_name": ".venv",
   "language": "python",
   "name": "python3"
  },
  "language_info": {
   "codemirror_mode": {
    "name": "ipython",
    "version": 3
   },
   "file_extension": ".py",
   "mimetype": "text/x-python",
   "name": "python",
   "nbconvert_exporter": "python",
   "pygments_lexer": "ipython3",
   "version": "3.13.5"
  }
 },
 "nbformat": 4,
 "nbformat_minor": 5
}
