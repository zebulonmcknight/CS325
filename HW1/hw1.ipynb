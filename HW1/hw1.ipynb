{
 "cells": [
  {
   "cell_type": "code",
   "execution_count": null,
   "id": "963d525b",
   "metadata": {},
   "outputs": [
    {
     "name": "stdout",
     "output_type": "stream",
     "text": [
      "a) 0.07692307692307693\n",
      "b) 0.060502083260390055\n",
      "c) [5 7 3 ... 4 1 5]\n",
      "d) 0.06103\n",
      "e) [15, 6, 13, 14, 1, 10, 5, 2, 11, 3, 32, 8, 4, 4, 7, 20, 13, 12, 8, 4, 14, 15, 4, 37, 3, 2, 6, 12, 11, 5]\n",
      "f) 0.13333333333333333\n"
     ]
    }
   ],
   "source": [
    "# *** PROBLEM 1 *** # \n",
    "# a\n",
    "success_probability = 4/52 \n",
    "print(\"a)\", success_probability)\n",
    "\n",
    "# b\n",
    "def geometric_distribution(p, k): \n",
    "    return ((1-p)**(k-1)) * (p)\n",
    "\n",
    "print(\"b)\", geometric_distribution(success_probability, 4)) \n",
    "\n",
    "# c \n",
    "import numpy as np\n",
    "\n",
    "results = np.random.geometric(success_probability, 100000)\n",
    "\n",
    "print(\"c)\", results)\n",
    "\n",
    "# d\n",
    "counter = 0\n",
    "for trial in results: \n",
    "    if (trial == 4):\n",
    "        counter += 1\n",
    "\n",
    "print(\"d)\", counter/100000) \n",
    "\n",
    "# e \n",
    "experimental_results = [15, 6, 13, 14, 1, 10, 5, 2, 11, 3, \n",
    "                        32, 8, 4, 4, 7, 20, 13, 12, 8, 4, \n",
    "                        14, 15, 4, 37, 3, 2, 6, 12, 11, 5]\n",
    "\n",
    "print(\"e)\", experimental_results)\n",
    "\n",
    "# f\n",
    "counter = 0\n",
    "for trial in experimental_results: \n",
    "    if (trial == 4): \n",
    "        counter += 1 \n",
    "\n",
    "print(\"f)\", counter/30)\n",
    "\n",
    "#a) 0.07692307692307693\n",
    "#b) 0.060502083260390055\n",
    "#c) [5 7 3 ... 4 1 5]\n",
    "#d) 0.06103\n",
    "#e) [15, 6, 13, 14, 1, 10, 5, 2, 11, 3, 32, 8, 4, 4, 7, 20, 13, 12, 8, 4, 14, 15, 4, 37, 3, 2, 6, 12, 11, 5]\n",
    "#f) 0.13333333333333333"
   ]
  },
  {
   "cell_type": "markdown",
   "id": "83f22c77",
   "metadata": {},
   "source": [
    "# g: \n",
    "\n",
    "Theoretical Probability: 0.0605 = 6.05% \n",
    "Python Sim: 0.0610 = 6.1%\n",
    "Physical Experiment: 0.13 = 13.3% \n",
    "\n",
    "    These results show that the Python simulation and the theoretical probability are very close, \n",
    "but the physical experiment resulted in a much higher rate of 4's than expected. This is in part\n",
    "due to the small sample size, (30 trials vs 100000) and due to the law of large numbers we would \n",
    "expect the frequency of 4's to decrease if we increased the number of trials. The physical experiment\n",
    "also includes a degree of human error when factoring in the shuffling procedure, two different shuffles\n",
    "could affect the order of the deck in very different ways, so a slight deviation from the expectation \n",
    "is not unusual. "
   ]
  }
 ],
 "metadata": {
  "kernelspec": {
   "display_name": ".venv",
   "language": "python",
   "name": "python3"
  },
  "language_info": {
   "codemirror_mode": {
    "name": "ipython",
    "version": 3
   },
   "file_extension": ".py",
   "mimetype": "text/x-python",
   "name": "python",
   "nbconvert_exporter": "python",
   "pygments_lexer": "ipython3",
   "version": "3.13.5"
  }
 },
 "nbformat": 4,
 "nbformat_minor": 5
}
